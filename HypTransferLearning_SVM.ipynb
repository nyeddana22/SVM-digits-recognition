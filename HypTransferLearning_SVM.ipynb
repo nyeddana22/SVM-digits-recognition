{
 "cells": [
  {
   "cell_type": "code",
   "execution_count": null,
   "id": "22e444f2",
   "metadata": {},
   "outputs": [],
   "source": [
    "import numpy as np\n",
    "import pandas as pd\n",
    "import matplotlib\n",
    "import matplotlib.pyplot as plt\n",
    "import random\n",
    "import time\n",
    "from sklearn.model_selection import train_test_split\n",
    "import cvxpy as cp"
   ]
  },
  {
   "cell_type": "code",
   "execution_count": null,
   "id": "f6128b48",
   "metadata": {},
   "outputs": [],
   "source": [
    "transfer_train = pd.read_csv(r'/Users/niharika/Documents/Niharika/Third Quarter/ECS 271 ML/Assignment3/transfer_train-1.csv')\n",
    "transfer_test = pd.read_csv(r'/Users/niharika/Documents/Niharika/Third Quarter/ECS 271 ML/Assignment3/transfer_test-1.csv')\n",
    "train = pd.read_csv(r'/Users/niharika/Documents/Niharika/Third Quarter/ECS 271 ML/Assignment3/studentspen-train.csv')\n",
    "train = train.loc[train['Digit'].isin([1,9])]"
   ]
  },
  {
   "cell_type": "code",
   "execution_count": null,
   "id": "112211ea",
   "metadata": {},
   "outputs": [],
   "source": [
    "x_trans_train = transfer_train[['x3','y3','x4','y4','x5','y5','x6','y6']]\n",
    "y_trans_train = transfer_train[['Digit']]"
   ]
  },
  {
   "cell_type": "code",
   "execution_count": null,
   "id": "ee8bedf4",
   "metadata": {},
   "outputs": [],
   "source": [
    "x_test = np.array(transfer_test[['x3','y3','x4','y4','x5','y5','x6','y6']])\n",
    "y_test = np.array(transfer_test[['Digit']])"
   ]
  },
  {
   "cell_type": "code",
   "execution_count": null,
   "id": "d8b650f4",
   "metadata": {},
   "outputs": [],
   "source": [
    "x_train = train[['x3','y3','x4','y4','x5','y5','x6','y6']]\n",
    "y_train = train[['Digit']]"
   ]
  },
  {
   "cell_type": "code",
   "execution_count": null,
   "id": "256d92fb",
   "metadata": {},
   "outputs": [],
   "source": [
    "y_train.loc[y_train['Digit'] != 1, 'Digit'] = -1\n",
    "x = np.array(x_train)\n",
    "y = np.array(y_train)\n",
    "D = x.shape[1]\n",
    "w1 = cp.Variable((D,1))\n",
    "b1 = cp.Variable()\n",
    "c = 0.001\n",
    "psi1 = cp.Variable((x.shape[0],1))\n",
    "objective = cp.Minimize(cp.sum(cp.square(w1)) * 0.5 + c * cp.sum(cp.square(psi1)))\n",
    "constraints = [cp.multiply(y, (x @ w1 + b1)) + psi1 >= 1, psi1 >= 0]\n",
    "prob = cp.Problem(objective, constraints)\n",
    "prob.solve()\n",
    "hyp_status = prob.status\n",
    "hyp_opt_val = prob.value\n",
    "hyp_W = w1\n",
    "hyp_B = b1.value\n",
    "\n",
    "print(hyp_status)\n",
    "print(hyp_opt_val)\n",
    "print(hyp_W)\n",
    "print(hyp_B)\n",
    "\n",
    "del objective, constraints, prob, w1, b1, x, y, D, psi1"
   ]
  },
  {
   "cell_type": "code",
   "execution_count": null,
   "id": "0fc37c0c",
   "metadata": {},
   "outputs": [],
   "source": [
    "y_trans_train.loc[y_trans_train['Digit'] != 1, 'Digit'] = -1\n",
    "x = np.array(x_trans_train)\n",
    "y = np.array(y_trans_train)\n",
    "D = x.shape[1]\n",
    "w2 = cp.Variable((D, 1))\n",
    "w2.value = hyp_W.value\n",
    "b2 = cp.Variable()\n",
    "psi2 = cp.Variable((x.shape[0],1))\n",
    "objective = cp.Minimize(cp.sum(cp.square(w2)) * 0.5 + c * cp.sum(cp.square(psi2)))\n",
    "constraints = [cp.multiply(y, (x @ w2 + b2)) + psi2 >= 1, cp.sum_squares(hyp_W - w2) <= 100, psi2 >= 0]\n",
    "prob1 = cp.Problem(objective, constraints)\n",
    "prob1.solve()\n",
    "hyp_status1 = prob1.status\n",
    "hyp_opt_val1 = prob1.value\n",
    "hyp_W1 = w2.value\n",
    "hyp_B1 = b2.value\n",
    "\n",
    "print(hyp_status1)\n",
    "print(hyp_opt_val1)\n",
    "print(hyp_W1)\n",
    "print(hyp_B1)"
   ]
  },
  {
   "cell_type": "code",
   "execution_count": null,
   "id": "c984acb8",
   "metadata": {},
   "outputs": [],
   "source": [
    "total = 0\n",
    "correct = 0\n",
    "for i in range(len(x_test)):\n",
    "    total += 1\n",
    "    pred = np.dot(np.transpose(hyp_W1),x_test[i]) + hyp_B1\n",
    "    if pred < 0: \n",
    "        pred = 7\n",
    "    else:\n",
    "        pred = 1\n",
    "    if pred == y_test[i]:\n",
    "        correct += 1\n",
    "\n",
    "print(total,correct)"
   ]
  }
 ],
 "metadata": {
  "kernelspec": {
   "display_name": "Python 3 (ipykernel)",
   "language": "python",
   "name": "python3"
  },
  "language_info": {
   "codemirror_mode": {
    "name": "ipython",
    "version": 3
   },
   "file_extension": ".py",
   "mimetype": "text/x-python",
   "name": "python",
   "nbconvert_exporter": "python",
   "pygments_lexer": "ipython3",
   "version": "3.9.7"
  }
 },
 "nbformat": 4,
 "nbformat_minor": 5
}

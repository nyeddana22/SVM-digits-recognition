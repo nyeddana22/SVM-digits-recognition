{
 "cells": [
  {
   "cell_type": "code",
   "execution_count": null,
   "id": "0bd340b4",
   "metadata": {},
   "outputs": [],
   "source": [
    "import numpy as np\n",
    "import pandas as pd\n",
    "import matplotlib\n",
    "import matplotlib.pyplot as plt\n",
    "import random\n",
    "import time\n",
    "from sklearn.model_selection import train_test_split\n",
    "import cvxpy as cp"
   ]
  },
  {
   "cell_type": "code",
   "execution_count": null,
   "id": "c30c1de5",
   "metadata": {},
   "outputs": [],
   "source": [
    "digits_train = pd.read_csv(r'/Users/niharika/Documents/Niharika/Third Quarter/ECS 271 ML/Assignment3/studentspen-train.csv')\n",
    "digits_train"
   ]
  },
  {
   "cell_type": "code",
   "execution_count": null,
   "id": "4a430aaf",
   "metadata": {},
   "outputs": [],
   "source": [
    "# train, cv = train_test_split(digits_train, test_size = 0.2)\n",
    "# print(train, cv)"
   ]
  },
  {
   "cell_type": "code",
   "execution_count": null,
   "id": "3e0806f3",
   "metadata": {},
   "outputs": [],
   "source": [
    "x1 = digits_train[['x3','y3','x4','y4','x5','y5','x6','y6']]\n",
    "y1 = digits_train[['Digit']]\n",
    "status, opt_val, w_val, b_val = [],[],[],[]"
   ]
  },
  {
   "cell_type": "code",
   "execution_count": null,
   "id": "a390fa1e",
   "metadata": {},
   "outputs": [],
   "source": [
    "for i in range(0,10):\n",
    "    y2 = y1.copy(deep = True)\n",
    "    y2.loc[y2['Digit'] != i, 'Digit'] = -1\n",
    "    y2.loc[y2['Digit'] == i, 'Digit'] = 1\n",
    "    x = np.array(x1)\n",
    "    y = np.array(y2)\n",
    "    D = x.shape[1]\n",
    "    w = cp.Variable((D,1))\n",
    "    b = cp.Variable()\n",
    "    c = 2\n",
    "    psi = cp.Variable((x.shape[0],1))\n",
    "    objective = cp.Minimize(cp.sum(cp.square(w)) * 0.5 + c * cp.sum(cp.square(psi)))\n",
    "    constraints = [cp.multiply(y, (x @ w + b)) - 1 + psi >= 0, psi >= 0]\n",
    "    prob = cp.Problem(objective, constraints)\n",
    "    prob.solve()\n",
    "    status.append(prob.status)\n",
    "    opt_val.append(prob.value)\n",
    "    w_val.append(w.value)\n",
    "    b_val.append(b.value)\n",
    "\n",
    "print(status)\n",
    "print(opt_val)\n",
    "print(w_val)\n",
    "print(b_val)"
   ]
  },
  {
   "cell_type": "code",
   "execution_count": null,
   "id": "e20c485c",
   "metadata": {},
   "outputs": [],
   "source": [
    "# x_test = np.array(cv[['x3','y3','x4','y4','x5','y5','x6','y6']])\n",
    "# y_test = np.array(cv[['Digit']])\n",
    "x_test = np.array(pd.read_csv(r'/Users/niharika/Documents/Niharika/Third Quarter/ECS 271 ML/Assignment3/studentsdigits-test.csv', header = 0))"
   ]
  },
  {
   "cell_type": "code",
   "execution_count": null,
   "id": "a2317efd",
   "metadata": {},
   "outputs": [],
   "source": [
    "total = 0\n",
    "correct = 0\n",
    "file = open(r'/Users/niharika/Documents/pred_nokernel.txt','w')\n",
    "for i in range(len(x_test)):\n",
    "#     total += 1\n",
    "    pred = []\n",
    "    for j in range(len(w_val)):\n",
    "        temp = np.dot(np.transpose(w_val[j]),x_test[i]) + b_val[j]\n",
    "        pred.append(temp)\n",
    "    file.write(str(pred.index(max(pred))))\n",
    "    file.write('\\n')\n",
    "#     if pred.index(max(pred)) == y_test[i]:\n",
    "#         correct += 1\n",
    "file.close()\n",
    "\n",
    "# print(total,correct)"
   ]
  }
 ],
 "metadata": {
  "kernelspec": {
   "display_name": "Python 3 (ipykernel)",
   "language": "python",
   "name": "python3"
  },
  "language_info": {
   "codemirror_mode": {
    "name": "ipython",
    "version": 3
   },
   "file_extension": ".py",
   "mimetype": "text/x-python",
   "name": "python",
   "nbconvert_exporter": "python",
   "pygments_lexer": "ipython3",
   "version": "3.9.7"
  }
 },
 "nbformat": 4,
 "nbformat_minor": 5
}

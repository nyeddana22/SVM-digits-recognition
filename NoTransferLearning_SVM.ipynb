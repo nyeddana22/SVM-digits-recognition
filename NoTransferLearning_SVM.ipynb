{
 "cells": [
  {
   "cell_type": "code",
   "execution_count": null,
   "id": "22e444f2",
   "metadata": {},
   "outputs": [],
   "source": [
    "import numpy as np\n",
    "import pandas as pd\n",
    "import matplotlib\n",
    "import matplotlib.pyplot as plt\n",
    "import random\n",
    "import time\n",
    "from sklearn.model_selection import train_test_split\n",
    "import cvxpy as cp"
   ]
  },
  {
   "cell_type": "code",
   "execution_count": null,
   "id": "f6128b48",
   "metadata": {},
   "outputs": [],
   "source": [
    "transfer_train = pd.read_csv(r'/Users/niharika/Documents/Niharika/Third Quarter/ECS 271 ML/Assignment3/transfer_train-1.csv')\n",
    "transfer_test = pd.read_csv(r'/Users/niharika/Documents/Niharika/Third Quarter/ECS 271 ML/Assignment3/transfer_test-1.csv')"
   ]
  },
  {
   "cell_type": "code",
   "execution_count": null,
   "id": "112211ea",
   "metadata": {},
   "outputs": [],
   "source": [
    "x_trans_train = transfer_train[['x3','y3','x4','y4','x5','y5','x6','y6']]\n",
    "y_trans_train = transfer_train[['Digit']]"
   ]
  },
  {
   "cell_type": "code",
   "execution_count": null,
   "id": "77006d19",
   "metadata": {},
   "outputs": [],
   "source": [
    "y_trans_train.loc[y_trans_train['Digit'] != 1, 'Digit'] = -1\n",
    "x = np.array(x_trans_train)\n",
    "y = np.array(y_trans_train)\n",
    "D = x.shape[1]\n",
    "w = cp.Variable((D,1))\n",
    "b = cp.Variable()\n",
    "c = 2\n",
    "psi = cp.Variable((x.shape[0],1))\n",
    "objective = cp.Minimize(cp.sum(cp.square(w)) * 0.5 + c * cp.sum(cp.square(psi)))\n",
    "constraints = [cp.multiply(y, (x @ w + b)) - 1 + psi >= 0, psi >= 0]\n",
    "prob = cp.Problem(objective, constraints)\n",
    "prob.solve()\n",
    "no_status = prob.status\n",
    "no_opt_val = prob.value\n",
    "no_W = w.value\n",
    "no_B = b.value\n",
    "\n",
    "print(no_status)\n",
    "print(no_opt_val)\n",
    "print(no_W)\n",
    "print(no_B)"
   ]
  },
  {
   "cell_type": "code",
   "execution_count": null,
   "id": "ee8bedf4",
   "metadata": {},
   "outputs": [],
   "source": [
    "x_test = np.array(transfer_test[['x3','y3','x4','y4','x5','y5','x6','y6']])\n",
    "y_test = np.array(transfer_test[['Digit']])"
   ]
  },
  {
   "cell_type": "code",
   "execution_count": null,
   "id": "0437f972",
   "metadata": {},
   "outputs": [],
   "source": [
    "total = 0\n",
    "correct = 0\n",
    "for i in range(len(x_test)):\n",
    "    total += 1\n",
    "    pred = np.dot(np.transpose(no_W),x_test[i]) + no_B\n",
    "    if pred < 0: \n",
    "        pred = 7\n",
    "    else:\n",
    "        pred = 1\n",
    "    if pred == y_test[i]:\n",
    "        correct += 1\n",
    "\n",
    "print(total,correct)"
   ]
  }
 ],
 "metadata": {
  "kernelspec": {
   "display_name": "Python 3 (ipykernel)",
   "language": "python",
   "name": "python3"
  },
  "language_info": {
   "codemirror_mode": {
    "name": "ipython",
    "version": 3
   },
   "file_extension": ".py",
   "mimetype": "text/x-python",
   "name": "python",
   "nbconvert_exporter": "python",
   "pygments_lexer": "ipython3",
   "version": "3.9.7"
  }
 },
 "nbformat": 4,
 "nbformat_minor": 5
}

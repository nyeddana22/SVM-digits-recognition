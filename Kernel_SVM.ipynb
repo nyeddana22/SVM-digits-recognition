{
 "cells": [
  {
   "cell_type": "code",
   "execution_count": 30,
   "metadata": {},
   "outputs": [],
   "source": [
    "import numpy as np\n",
    "import pandas as pd\n",
    "import cvxpy as cp\n",
    "from sklearn.model_selection import train_test_split\n",
    "from copy import deepcopy"
   ]
  },
  {
   "cell_type": "code",
   "execution_count": 31,
   "metadata": {},
   "outputs": [],
   "source": [
    "train1 = pd.read_csv(r'/Users/niharika/Documents/Niharika/Third Quarter/ECS 271 ML/Assignment3/studentspen-train.csv', header=0)\n",
    "test = pd.read_csv(r'/Users/niharika/Documents/Niharika/Third Quarter/ECS 271 ML/Assignment3/studentsdigits-test.csv', header=0)\n",
    "x_test = np.array(test)"
   ]
  },
  {
   "cell_type": "code",
   "execution_count": 32,
   "metadata": {},
   "outputs": [],
   "source": [
    "# train1, cv = train_test_split(train2, test_size = 0.2)"
   ]
  },
  {
   "cell_type": "code",
   "execution_count": 33,
   "metadata": {},
   "outputs": [],
   "source": [
    "poly_maps = []\n",
    "factorial = np.zeros(20)\n",
    "def comp_factorial():\n",
    "    global factorial\n",
    "    factorial[0] = 1\n",
    "    for i in range(1, factorial.shape[0]):\n",
    "        factorial[i] = i * factorial[i - 1]\n",
    "\n",
    "comp_factorial()\n",
    "\n",
    "def get_poly_maps(c_map, index, degree):\n",
    "    if (index == c_map.shape[0]):\n",
    "        if (np.sum(c_map) == degree):\n",
    "            poly_maps.append(deepcopy(c_map))\n",
    "        return\n",
    "    for i in range(degree + 1):\n",
    "        c_map[index] = i\n",
    "        get_poly_maps(c_map, index + 1, degree)\n",
    "    c_map[index] = 0\n",
    "\n",
    "def poly_kernel(x, degree):\n",
    "    global poly_maps\n",
    "    poly_maps = []\n",
    "    D = x.shape[1]\n",
    "\n",
    "    c_map = np.zeros(D)\n",
    "    get_poly_maps(c_map, 0, degree)\n",
    "    poly_maps = np.array(poly_maps)\n",
    "    xk = np.zeros((x.shape[0], poly_maps.shape[0]))\n",
    "    \n",
    "    for i in range(xk.shape[0]):\n",
    "        for j in range(xk.shape[1]):\n",
    "            c = factorial[degree]\n",
    "            xk[i][j] = 1.0\n",
    "            for k in range(len(poly_maps[j])):\n",
    "                c /= factorial[int(poly_maps[j][k])]\n",
    "                xk[i][j] *= x[i][k] ** poly_maps[j][k]\n",
    "            c = c ** 0.5\n",
    "            xk[i][j] *= c\n",
    "\n",
    "    return xk"
   ]
  },
  {
   "cell_type": "code",
   "execution_count": 34,
   "metadata": {},
   "outputs": [],
   "source": [
    "w_val = []\n",
    "b_val = []\n",
    "\n",
    "for cls in range(0,10):\n",
    "    train = train1.copy(deep=True)\n",
    "    train.loc[train.Digit != cls, 'Digit'] = -1\n",
    "    train.loc[train.Digit == cls, 'Digit'] = 1\n",
    "    x_train = train[['x3','y3','x4','y4','x5','y5','x6','y6']]\n",
    "    x = np.array(x_train)\n",
    "    y_train = train[['Digit']]\n",
    "    y = np.array(y_train)\n",
    "    xk = poly_kernel(x, 2)\n",
    "    D = xk.shape[1]\n",
    "    w = cp.Variable((D, 1))\n",
    "    b = cp.Variable()\n",
    "    C = 2\n",
    "    psi = cp.Variable((xk.shape[0], 1))\n",
    "    objective = cp.Minimize(cp.sum(cp.square(w)) * 0.5 + C*cp.sum(cp.square(psi)))\n",
    "    constraints = [cp.multiply(y, (xk @ w + b)) + psi >= 1, psi >= 0]\n",
    "    prob = cp.Problem(objective, constraints)\n",
    "    prob.solve(solver=cp.ECOS)\n",
    "    w_val.append(w.value)\n",
    "    b_val.append(b.value)"
   ]
  },
  {
   "cell_type": "code",
   "execution_count": 35,
   "metadata": {},
   "outputs": [],
   "source": [
    "# x_test = np.array(cv[['x3','y3','x4','y4','x5','y5','x6','y6']])\n",
    "# y_test = np.array(cv[['Digit']])"
   ]
  },
  {
   "cell_type": "code",
   "execution_count": 36,
   "metadata": {},
   "outputs": [],
   "source": [
    "xk_test = poly_kernel(x_test, 2)\n",
    "total = 0\n",
    "correct = 0\n",
    "file = open(r'/Users/niharika/Documents/pred_kernel.txt','w')\n",
    "for i in range(len(x_test)):\n",
    "#     total += 1\n",
    "    pred = []\n",
    "    for j in range(len(w_val)):\n",
    "        temp = np.dot(np.transpose(w_val[j]),xk_test[i]) + b_val[j]\n",
    "        pred.append(temp)\n",
    "    file.write(str(pred.index(max(pred))))\n",
    "    file.write('\\n')\n",
    "#     if pred.index(max(pred)) == y_test[i]:\n",
    "#         correct += 1\n",
    "file.close()\n",
    "\n",
    "# print(total,correct)"
   ]
  }
 ],
 "metadata": {
  "interpreter": {
   "hash": "369f2c481f4da34e4445cda3fffd2e751bd1c4d706f27375911949ba6bb62e1c"
  },
  "kernelspec": {
   "display_name": "Python 3 (ipykernel)",
   "language": "python",
   "name": "python3"
  },
  "language_info": {
   "codemirror_mode": {
    "name": "ipython",
    "version": 3
   },
   "file_extension": ".py",
   "mimetype": "text/x-python",
   "name": "python",
   "nbconvert_exporter": "python",
   "pygments_lexer": "ipython3",
   "version": "3.9.7"
  }
 },
 "nbformat": 4,
 "nbformat_minor": 2
}
